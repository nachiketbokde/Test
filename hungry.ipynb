{
 "cells": [
  {
   "cell_type": "code",
   "execution_count": 14,
   "id": "83558e9c",
   "metadata": {},
   "outputs": [
    {
     "name": "stdout",
     "output_type": "stream",
     "text": [
      "Hungry?yes\n",
      "eat something\n",
      "r u ok\n"
     ]
    }
   ],
   "source": [
    "s=input(\"Hungry?\")\n",
    "if s==\"yes\":\n",
    "    print(\"eat something\")\n",
    "print(\"r u ok\")    "
   ]
  },
  {
   "cell_type": "code",
   "execution_count": null,
   "id": "b18754f8",
   "metadata": {},
   "outputs": [],
   "source": []
  }
 ],
 "metadata": {
  "kernelspec": {
   "display_name": "Python 3 (ipykernel)",
   "language": "python",
   "name": "python3"
  },
  "language_info": {
   "codemirror_mode": {
    "name": "ipython",
    "version": 3
   },
   "file_extension": ".py",
   "mimetype": "text/x-python",
   "name": "python",
   "nbconvert_exporter": "python",
   "pygments_lexer": "ipython3",
   "version": "3.9.7"
  }
 },
 "nbformat": 4,
 "nbformat_minor": 5
}
